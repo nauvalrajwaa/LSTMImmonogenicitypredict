{
 "cells": [
  {
   "cell_type": "code",
   "execution_count": 2,
   "metadata": {},
   "outputs": [],
   "source": [
    "import numpy as np\n",
    "from scipy.integrate import solve_ivp\n",
    "import matplotlib.pyplot as plt\n",
    "\n",
    "# Konstanta universal\n",
    "R = 8.314  # J/(mol K), gas constant\n",
    "T = 298.15  # Temperature in Kelvin (example: 25°C)\n",
    "\n",
    "# Konstanta untuk Variant A\n",
    "k1_A = 0.409 * 1.08e8 * np.exp(-83.2e3 / (R * T))\n",
    "k2_A = 0.591 * 1.68e31 * np.exp(-119.3e3 / (R * T))\n",
    "\n",
    "# Konstanta untuk Variant B\n",
    "k1_B = 0.115 * 8.89e6 * np.exp(-72.0e3 / (R * T))\n",
    "k2_B = 0.885 * 5.13e25 * np.exp(-197.0e3 / (R * T))\n",
    "\n",
    "# Konstanta untuk Variant C\n",
    "k1_C = 0.327 * 4.79e13 * np.exp(-111.3e3 / (R * T))\n",
    "k2_C = 0.673 * 3.48e20 * np.exp(-164.1e3 / (R * T))"
   ]
  },
  {
   "cell_type": "code",
   "execution_count": 3,
   "metadata": {},
   "outputs": [],
   "source": [
    "# Definisi sistem ODE untuk Variant A\n",
    "def ode_variant_A(t, y):\n",
    "    A1, B1, C1 = y\n",
    "    dA1_dt = -k1_A * A1\n",
    "    dB1_dt = k1_A * A1 - k2_A * B1\n",
    "    dC1_dt = k2_A * B1\n",
    "    return [dA1_dt, dB1_dt, dC1_dt]\n",
    "\n",
    "# Definisi sistem ODE untuk Variant B\n",
    "def ode_variant_B(t, y):\n",
    "    A2, B2, C2 = y\n",
    "    dA2_dt = -k1_B * A2\n",
    "    dB2_dt = k1_B * A2 - k2_B * B2\n",
    "    dC2_dt = k2_B * B2\n",
    "    return [dA2_dt, dB2_dt, dC2_dt]\n",
    "\n",
    "# Definisi sistem ODE untuk Variant C\n",
    "def ode_variant_C(t, y):\n",
    "    A3, B3, C3 = y\n",
    "    dA3_dt = -k1_C * A3\n",
    "    dB3_dt = k1_C * A3 - k2_C * B3\n",
    "    dC3_dt = k2_C * B3\n",
    "    return [dA3_dt, dB3_dt, dC3_dt]\n",
    "\n",
    "# Kondisi awal untuk ketiga varian: semua reaktan ada (1 mol), produk 0\n",
    "initial_conditions = [1.0, 0.0, 0.0]  # [A, B, C]\n",
    "\n",
    "t_span = (0, 100)  # Kurangi rentang waktu jika terlalu besar\n",
    "t_eval = np.linspace(0, 100, 1000)  # Sesuaikan jumlah evaluasi waktu\n"
   ]
  },
  {
   "cell_type": "code",
   "execution_count": 4,
   "metadata": {},
   "outputs": [
    {
     "name": "stdout",
     "output_type": "stream",
     "text": [
      " lsoda--  at t (=r1) and step size h (=r2), the    \u0000\u0000\n",
      "       corrector convergence failed repeatedly     \u0000\u0000\n",
      "       or with abs(h) = hmin   \u0000\u0000\n",
      "      in above,  r1 =  0.0000000000000D+00   r2 =  0.1206230583176D-04\n"
     ]
    },
    {
     "name": "stderr",
     "output_type": "stream",
     "text": [
      "/Users/user/Downloads/Anthrax Project/myenv/lib/python3.11/site-packages/scipy/integrate/_ivp/lsoda.py:161: UserWarning: lsoda: Repeated convergence failures (perhaps bad Jacobian or tolerances).\n",
      "  solver._y, solver.t = integrator.run(\n"
     ]
    }
   ],
   "source": [
    "# Memecahkan ODE untuk Variant A dengan LSODA\n",
    "solution_A = solve_ivp(ode_variant_A, t_span, initial_conditions, t_eval=t_eval, method='LSODA')\n",
    "# Memecahkan ODE untuk Variant A dengan LSODA\n",
    "solution_B = solve_ivp(ode_variant_B, t_span, initial_conditions, t_eval=t_eval, method='LSODA')\n",
    "# Memecahkan ODE untuk Variant A dengan LSODA\n",
    "solution_C = solve_ivp(ode_variant_C, t_span, initial_conditions, t_eval=t_eval, method='LSODA')\n"
   ]
  },
  {
   "cell_type": "code",
   "execution_count": 6,
   "metadata": {},
   "outputs": [
    {
     "ename": "IndexError",
     "evalue": "list index out of range",
     "output_type": "error",
     "traceback": [
      "\u001b[0;31m---------------------------------------------------------------------------\u001b[0m",
      "\u001b[0;31mIndexError\u001b[0m                                Traceback (most recent call last)",
      "Cell \u001b[0;32mIn[6], line 4\u001b[0m\n\u001b[1;32m      2\u001b[0m plt\u001b[38;5;241m.\u001b[39mfigure(figsize\u001b[38;5;241m=\u001b[39m(\u001b[38;5;241m14\u001b[39m, \u001b[38;5;241m8\u001b[39m))\n\u001b[1;32m      3\u001b[0m plt\u001b[38;5;241m.\u001b[39msubplot(\u001b[38;5;241m3\u001b[39m, \u001b[38;5;241m1\u001b[39m, \u001b[38;5;241m1\u001b[39m)\n\u001b[0;32m----> 4\u001b[0m plt\u001b[38;5;241m.\u001b[39mplot(solution_A\u001b[38;5;241m.\u001b[39mt, \u001b[43msolution_A\u001b[49m\u001b[38;5;241;43m.\u001b[39;49m\u001b[43my\u001b[49m\u001b[43m[\u001b[49m\u001b[38;5;241;43m0\u001b[39;49m\u001b[43m]\u001b[49m, label\u001b[38;5;241m=\u001b[39m\u001b[38;5;124m'\u001b[39m\u001b[38;5;124m[A1] (Reaktan)\u001b[39m\u001b[38;5;124m'\u001b[39m)\n\u001b[1;32m      5\u001b[0m plt\u001b[38;5;241m.\u001b[39mplot(solution_A\u001b[38;5;241m.\u001b[39mt, solution_A\u001b[38;5;241m.\u001b[39my[\u001b[38;5;241m1\u001b[39m], label\u001b[38;5;241m=\u001b[39m\u001b[38;5;124m'\u001b[39m\u001b[38;5;124m[B1] (Produk Antara)\u001b[39m\u001b[38;5;124m'\u001b[39m)\n\u001b[1;32m      6\u001b[0m plt\u001b[38;5;241m.\u001b[39mplot(solution_A\u001b[38;5;241m.\u001b[39mt, solution_A\u001b[38;5;241m.\u001b[39my[\u001b[38;5;241m2\u001b[39m], label\u001b[38;5;241m=\u001b[39m\u001b[38;5;124m'\u001b[39m\u001b[38;5;124m[C1] (Produk Akhir)\u001b[39m\u001b[38;5;124m'\u001b[39m)\n",
      "\u001b[0;31mIndexError\u001b[0m: list index out of range"
     ]
    },
    {
     "data": {
      "image/png": "[encoded data removed]",
      "text/plain": [
       "<Figure size 1400x800 with 1 Axes>"
      ]
     },
     "metadata": {},
     "output_type": "display_data"
    }
   ],
   "source": [
    "# Plot hasil Variant A\n",
    "plt.figure(figsize=(14, 8))\n",
    "plt.subplot(3, 1, 1)\n",
    "plt.plot(solution_A.t, solution_A.y[0], label='[A1] (Reaktan)')\n",
    "plt.plot(solution_A.t, solution_A.y[1], label='[B1] (Produk Antara)')\n",
    "plt.plot(solution_A.t, solution_A.y[2], label='[C1] (Produk Akhir)')\n",
    "plt.title('Simulasi Kinetik Reaksi Variant A')\n",
    "plt.xlabel('Waktu (s)')\n",
    "plt.ylabel('Konsentrasi')\n",
    "plt.legend()\n",
    "plt.grid(True)\n",
    "\n",
    "# Plot hasil Variant B\n",
    "plt.subplot(3, 1, 2)\n",
    "plt.plot(solution_B.t, solution_B.y[0], label='[A2] (Reaktan)')\n",
    "plt.plot(solution_B.t, solution_B.y[1], label='[B2] (Produk Antara)')\n",
    "plt.plot(solution_B.t, solution_B.y[2], label='[C2] (Produk Akhir)')\n",
    "plt.title('Simulasi Kinetik Reaksi Variant B')\n",
    "plt.xlabel('Waktu (s)')\n",
    "plt.ylabel('Konsentrasi')\n",
    "plt.legend()\n",
    "plt.grid(True)\n",
    "\n",
    "# Plot hasil Variant C\n",
    "plt.subplot(3, 1, 3)\n",
    "plt.plot(solution_C.t, solution_C.y[0], label='[A3] (Reaktan)')\n",
    "plt.plot(solution_C.t, solution_C.y[1], label='[B3] (Produk Antara)')\n",
    "plt.plot(solution_C.t, solution_C.y[2], label='[C3] (Produk Akhir)')\n",
    "plt.title('Simulasi Kinetik Reaksi Variant C')\n",
    "plt.xlabel('Waktu (s)')\n",
    "plt.ylabel('Konsentrasi')\n",
    "plt.legend()\n",
    "plt.grid(True)\n",
    "\n",
    "plt.tight_layout()\n",
    "plt.show()\n"
   ]
  }
 ],
 "metadata": {
  "kernelspec": {
   "display_name": "myenv",
   "language": "python",
   "name": "python3"
  },
  "language_info": {
   "codemirror_mode": {
    "name": "ipython",
    "version": 3
   },
   "file_extension": ".py",
   "mimetype": "text/x-python",
   "name": "python",
   "nbconvert_exporter": "python",
   "pygments_lexer": "ipython3",
   "version": "3.11.4"
  }
 },
 "nbformat": 4,
 "nbformat_minor": 2
}
